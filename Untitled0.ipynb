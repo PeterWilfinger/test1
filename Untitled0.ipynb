{
  "nbformat": 4,
  "nbformat_minor": 0,
  "metadata": {
    "colab": {
      "provenance": [],
      "collapsed_sections": [],
      "authorship_tag": "ABX9TyMpg8xdwV4sNCADz5h2lr1F",
      "include_colab_link": true
    },
    "kernelspec": {
      "name": "python3",
      "display_name": "Python 3"
    },
    "language_info": {
      "name": "python"
    }
  },
  "cells": [
    {
      "cell_type": "markdown",
      "metadata": {
        "id": "view-in-github",
        "colab_type": "text"
      },
      "source": [
        "<a href=\"https://colab.research.google.com/github/PeterWilfinger/test1/blob/main/Untitled0.ipynb\" target=\"_parent\"><img src=\"https://colab.research.google.com/assets/colab-badge.svg\" alt=\"Open In Colab\"/></a>"
      ]
    },
    {
      "cell_type": "code",
      "execution_count": 3,
      "metadata": {
        "colab": {
          "base_uri": "https://localhost:8080/"
        },
        "id": "vDXn3CBxDc8P",
        "outputId": "7cea9f85-7bbf-4e47-bd54-672952ec8a20"
      },
      "outputs": [
        {
          "output_type": "stream",
          "name": "stdout",
          "text": [
            "Hallo Welt\n"
          ]
        }
      ],
      "source": [
        "print(\"Hallo Welt\")"
      ]
    },
    {
      "cell_type": "markdown",
      "source": [
        "First Try."
      ],
      "metadata": {
        "id": "m14ml-eAEcIx"
      }
    },
    {
      "cell_type": "code",
      "source": [
        "print(\"Hello World...\")"
      ],
      "metadata": {
        "colab": {
          "base_uri": "https://localhost:8080/"
        },
        "id": "CUDN5Yp7D-FW",
        "outputId": "f0a9ecd8-d58b-43f2-bf6f-08dcb28bac1a"
      },
      "execution_count": 5,
      "outputs": [
        {
          "output_type": "stream",
          "name": "stdout",
          "text": [
            "Hello World...\n"
          ]
        }
      ]
    }
  ]
}